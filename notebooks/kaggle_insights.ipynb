{
 "cells": [
  {
   "cell_type": "code",
   "execution_count": 1,
   "metadata": {},
   "outputs": [],
   "source": [
    "import os\n",
    "from pathlib import Path\n",
    "import sys\n",
    "import os\n",
    "\n",
    "import numpy as np\n",
    "import pandas as pd\n",
    "import torch\n",
    "import torch.nn as nn\n",
    "import matplotlib.pyplot as plt\n",
    "import sklearn\n",
    "\n",
    "sys.path.append('../src')\n",
    "from datasets.kaggle import KaggleDataset\n",
    "import load_model\n",
    "import dl_utils\n",
    "import ipynb_utils"
   ]
  },
  {
   "cell_type": "code",
   "execution_count": 2,
   "metadata": {},
   "outputs": [],
   "source": [
    "# Load the Kaggle dataset\n",
    "path = Path('..') / 'data' / 'kaggle_ppg_bp'\n",
    "batch_size = 64\n",
    "\n",
    "train = KaggleDataset(path, train=True)\n",
    "trainloader = torch.utils.data.DataLoader(train, batch_size=batch_size,\n",
    "                                            shuffle=False, num_workers=1,\n",
    "                                            pin_memory=False, persistent_workers=True)\n",
    "\n",
    "dev = KaggleDataset(path, train=False)\n",
    "devloader = torch.utils.data.DataLoader(dev, batch_size=batch_size,\n",
    "                                            shuffle=False, num_workers=1,\n",
    "                                            pin_memory=False, persistent_workers=True)"
   ]
  },
  {
   "cell_type": "code",
   "execution_count": 3,
   "metadata": {},
   "outputs": [],
   "source": [
    "# Get the dataset statistics\n",
    "y_true_train = torch.cat([y for x, y in trainloader])\n",
    "y_true_dev = torch.cat([y for x, y in devloader])"
   ]
  },
  {
   "cell_type": "code",
   "execution_count": 4,
   "metadata": {},
   "outputs": [
    {
     "name": "stdout",
     "output_type": "stream",
     "text": [
      "Train var: tensor([485.7870, 124.9180])\n",
      "Dev var: tensor([381.4030, 102.0371])\n",
      "\n",
      "Train mean: tensor([128.6287,  63.8986])\n",
      "Dev mean: tensor([126.2440,  65.4517])\n",
      "\n",
      "Train std: tensor([22.0406, 11.1767])\n",
      "Dev std: tensor([19.5295, 10.1013])\n",
      "\n",
      "Train mean var: 305.3525390625\n",
      "Dev mean var: 241.72003173828125\n"
     ]
    }
   ],
   "source": [
    "print(f\"Train var: {y_true_train.var(dim=0)}\")\n",
    "print(f\"Dev var: {y_true_dev.var(dim=0)}\")\n",
    "print()\n",
    "print(f\"Train mean: {y_true_train.mean(dim=0)}\")\n",
    "print(f\"Dev mean: {y_true_dev.mean(dim=0)}\")\n",
    "print()\n",
    "print(f\"Train std: {y_true_train.std(dim=0)}\")\n",
    "print(f\"Dev std: {y_true_dev.std(dim=0)}\")\n",
    "print()\n",
    "\n",
    "print(f\"Train mean var: {y_true_train.var(dim=0).mean()}\")\n",
    "print(f\"Dev mean var: {y_true_dev.var(dim=0).mean()}\")\n"
   ]
  },
  {
   "cell_type": "code",
   "execution_count": 5,
   "metadata": {},
   "outputs": [],
   "source": [
    "# Loading an example model\n",
    "criterion = nn.MSELoss()\n",
    "model = ipynb_utils.load_model_from_config('..\\experiments\\lstm_test\\outputs\\models\\model_20240426-164030.pt')"
   ]
  },
  {
   "cell_type": "code",
   "execution_count": 6,
   "metadata": {},
   "outputs": [],
   "source": [
    "# Get the predictions\n",
    "y_pred_train, _ = dl_utils.get_predictions(model, trainloader)\n",
    "y_pred_dev, _ = dl_utils.get_predictions(model, devloader)"
   ]
  },
  {
   "cell_type": "code",
   "execution_count": 7,
   "metadata": {},
   "outputs": [
    {
     "name": "stdout",
     "output_type": "stream",
     "text": [
      "258.0099792480469\n",
      "248.01132202148438\n"
     ]
    }
   ],
   "source": [
    "mse_train = criterion(y_pred_train, y_true_train).item()\n",
    "mse_dev = criterion(y_pred_dev, y_true_dev).item()\n",
    "\n",
    "print(mse_train)\n",
    "print(mse_dev)"
   ]
  },
  {
   "cell_type": "markdown",
   "metadata": {},
   "source": [
    "## 1d CNN network\n",
    "![LSTM MSE validation loss](img/1d_CNN_val.png)"
   ]
  },
  {
   "cell_type": "code",
   "execution_count": 8,
   "metadata": {},
   "outputs": [],
   "source": [
    "# Load all models\n",
    "model_dir = Path('..\\experiments\\kaggle_new_subsampled\\outputs\\models')\n",
    "models = ipynb_utils.load_models_from_dir(model_dir)\n",
    "res_mse = []\n",
    "r2s = []\n",
    "\n",
    "for model in models:\n",
    "    # Get the predictions\n",
    "    y_pred_train, _ = dl_utils.get_predictions(model, trainloader)\n",
    "    y_pred_dev, _ = dl_utils.get_predictions(model, devloader)\n",
    "    mse_train = criterion(y_pred_train, y_true_train).item()\n",
    "    mse_dev = criterion(y_pred_dev, y_true_dev).item()\n",
    "    res_mse = res_mse + [(mse_train, mse_dev)]\n",
    "    r2s_dev = sklearn.metrics.r2_score(y_true_dev, y_pred_dev)\n",
    "    r2s_train = sklearn.metrics.r2_score(y_true_train, y_pred_train)\n",
    "    r2s = r2s + [(r2s_train, r2s_dev)]\n",
    "res_mse = np.array(res_mse)"
   ]
  },
  {
   "cell_type": "code",
   "execution_count": 17,
   "metadata": {},
   "outputs": [
    {
     "name": "stdout",
     "output_type": "stream",
     "text": [
      "[ Train MSE, Dev MSE] sorted by Dev MSE:\n",
      "[[205.0783844  232.99128723]\n",
      " [252.37484741 240.7232666 ]\n",
      " [290.38952637 240.87341309]\n",
      " [285.22506714 241.84136963]\n",
      " [217.04077148 243.54374695]]\n"
     ]
    }
   ],
   "source": [
    "\n",
    "print(\"[ Train MSE, Dev MSE] sorted by Dev MSE:\")\n",
    "print(np.array(sorted(res_mse, key=lambda x: x[1])[:5]))"
   ]
  },
  {
   "cell_type": "code",
   "execution_count": 18,
   "metadata": {},
   "outputs": [
    {
     "name": "stdout",
     "output_type": "stream",
     "text": [
      "The r^2s are: [ 0.12373147 -0.08952583] +- [0.12277078 0.11538522]\n"
     ]
    }
   ],
   "source": [
    "# R2 regression score (0 when predicing mean, 1 perfect prediction)\n",
    "r2_means = np.array(r2s).mean(axis=0)\n",
    "r2_stds = np.array(r2s).std(axis=0)\n",
    "print(f\"The r^2s are: {r2_means} +- {r2_stds}\")"
   ]
  },
  {
   "cell_type": "markdown",
   "metadata": {},
   "source": [
    "As we can see, the model predicts mean value and not much more."
   ]
  },
  {
   "cell_type": "markdown",
   "metadata": {},
   "source": [
    "## LSTM\n",
    "![LSTM MSE validation loss](img/lstm_val.png)\n",
    "LSTM network with one fully connected layer for regression does not seem to learn anything but to predict a mean value. Number of LSTM layers and number of cells were optimized."
   ]
  },
  {
   "cell_type": "markdown",
   "metadata": {},
   "source": [
    "## xResNet1d\n",
    "![LSTM MSE validation loss](img/ppg_xresnet_val.png)"
   ]
  }
 ],
 "metadata": {
  "kernelspec": {
   "display_name": ".venv",
   "language": "python",
   "name": "python3"
  },
  "language_info": {
   "codemirror_mode": {
    "name": "ipython",
    "version": 3
   },
   "file_extension": ".py",
   "mimetype": "text/x-python",
   "name": "python",
   "nbconvert_exporter": "python",
   "pygments_lexer": "ipython3",
   "version": "3.10.11"
  }
 },
 "nbformat": 4,
 "nbformat_minor": 2
}
